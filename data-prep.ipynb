{
 "cells": [
  {
   "cell_type": "code",
   "execution_count": 18,
   "metadata": {},
   "outputs": [],
   "source": [
    "from pdfminer.high_level import extract_pages\n",
    "from pdfminer.layout import LTTextContainer\n",
    "\n",
    "def extract_indexed_text(pdf_path):\n",
    "    data = []\n",
    "    for page_layout in extract_pages(pdf_path):\n",
    "        page_data = {'page': page_layout.pageid, 'content': []}\n",
    "        for element in page_layout:\n",
    "            if isinstance(element, LTTextContainer):\n",
    "                page_data['content'].append(element.get_text())\n",
    "        data.append(page_data)\n",
    "    return data\n",
    "\n",
    "pdf_path = 'morin.pdf'\n",
    "textbook_data = extract_indexed_text(pdf_path)\n"
   ]
  },
  {
   "cell_type": "code",
   "execution_count": 32,
   "metadata": {},
   "outputs": [
    {
     "data": {
      "text/plain": [
       "['2.4 Exercises\\n',\n",
       " '2.19. Leaning sticks and circles ***\\n',\n",
       " 'A large number of sticks (with mass density per unit length ρ) and\\ncircles (with radius R) lean on each other, as shown in Fig. 2.26. Each\\nstick makes an angle θ with the horizontal and is tangent to the next\\ncircle at its upper end. The sticks are hinged to the ground, and every\\nother surface is frictionless (unlike in the previous problem). In the limit\\nof a very large number of sticks and circles, what is the normal force\\nbetween a stick and the circle it rests on, very far to the right? Assume\\nthat the last circle leans against a wall, to keep it from moving.\\n',\n",
       " 'R\\n',\n",
       " 'θ\\n',\n",
       " 'Fig. 2.26\\n',\n",
       " '35\\n',\n",
       " '...\\n',\n",
       " '2.4 Exercises\\n',\n",
       " 'Section 2.1: Balancing forces\\n',\n",
       " '2.20. Block under an overhang *\\n',\n",
       " 'A block of mass M is positioned underneath an overhang that makes an\\nangle β with the horizontal. You apply a horizontal force of Mg on the\\nblock, as shown in Fig. 2.27. Assume that the friction force between the\\nblock and the overhang is large enough to keep the block at rest. What\\nare the normal and friction forces (call them N and Ff ) that the overhang\\nexerts on the block? If the coefficient of static friction is µ, for what\\nrange of angles β does the block in fact remain at rest?\\n',\n",
       " 'Mg\\n',\n",
       " 'M\\n',\n",
       " 'β\\n',\n",
       " 'Fig. 2.27\\n',\n",
       " '2.21. Pulling a block *\\n',\n",
       " 'A person pulls on a block with a force F, at an angle θ with respect to the\\nhorizontal. The coefficient of friction between the block and the ground\\nis µ. For what θ is the F required to make the block slip a minimum?\\nWhat is the corresponding F?\\n',\n",
       " '2.22. Holding a cone *\\n',\n",
       " 'With two fingers, you hold an ice cream cone motionless upside down,\\nas shown in Fig. 2.28. The mass of the cone is m, and the coefficient\\nof static friction between your fingers and the cone is µ. When viewed\\nfrom the side, the angle of the tip is 2θ. What is the minimum normal\\nforce you must apply with each finger in order to hold up the cone? In\\nterms of θ, what is the minimum value of µ that allows you to hold up\\nthe cone? Assume that you can supply as large a normal force as needed.\\n',\n",
       " 'finger\\n',\n",
       " 'finger\\n',\n",
       " 'θ θ\\n',\n",
       " '2.23. Keeping a book up **\\n',\n",
       " 'The task of Problem 2.4 is to find the minimum force required to keep a\\nbook up. What is the maximum allowable force, as a function of θ and\\nµ? Is there a special angle that arises? Given µ, make a rough plot of\\nthe allowed values of F for −π/2 < θ < π/2.\\n',\n",
       " 'Fig. 2.28\\n']"
      ]
     },
     "execution_count": 32,
     "metadata": {},
     "output_type": "execute_result"
    }
   ],
   "source": [
    "textbook_data[54]['content']"
   ]
  },
  {
   "cell_type": "code",
   "execution_count": null,
   "metadata": {},
   "outputs": [],
   "source": []
  },
  {
   "cell_type": "markdown",
   "metadata": {},
   "source": []
  }
 ],
 "metadata": {
  "kernelspec": {
   "display_name": "base",
   "language": "python",
   "name": "python3"
  },
  "language_info": {
   "codemirror_mode": {
    "name": "ipython",
    "version": 3
   },
   "file_extension": ".py",
   "mimetype": "text/x-python",
   "name": "python",
   "nbconvert_exporter": "python",
   "pygments_lexer": "ipython3",
   "version": "3.11.8"
  }
 },
 "nbformat": 4,
 "nbformat_minor": 2
}
